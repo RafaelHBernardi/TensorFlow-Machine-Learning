{
 "cells": [
  {
   "cell_type": "code",
   "execution_count": 1,
   "id": "d6da8459-15f4-485b-8ec4-7c8b02c04edf",
   "metadata": {},
   "outputs": [],
   "source": [
    "import os\n",
    "os.environ['TF_CPP_MIN_LOG_LEVEL'] = '2'\n",
    "\n",
    "import numpy as np\n",
    "import tensorflow as tf\n",
    "from tensorflow import keras\n",
    "from tensorflow.keras import layers\n",
    "\n",
    "import matplotlib.pyplot as plt\n"
   ]
  },
  {
   "cell_type": "code",
   "execution_count": 2,
   "id": "90645076-b0d8-4766-83ea-b1270bb599f2",
   "metadata": {},
   "outputs": [
    {
     "name": "stdout",
     "output_type": "stream",
     "text": [
      "(50000, 32, 32, 3) (10000, 32, 32, 3)\n"
     ]
    }
   ],
   "source": [
    "cifar10 = keras.datasets.cifar10\n",
    "\n",
    "(train_images, train_labels), (test_images, test_labels) =  keras.datasets.cifar10.load_data()\n",
    "print(train_images.shape,test_images.shape)\n"
   ]
  },
  {
   "cell_type": "code",
   "execution_count": 3,
   "id": "44283812-975a-4a61-a8bd-53a755cf938b",
   "metadata": {},
   "outputs": [],
   "source": [
    "model = keras.models.Sequential()\n",
    "model.add(layers.Conv2D(32, (3,3), activation='relu',input_shape=(32,32,3))) # (32,32,3) é o input_size\n",
    "model.add(layers.MaxPooling2D((2,2)))\n",
    "model.add(layers.Conv2D(64, (3,3), activation='relu')) # 64 é o número de filtros\n",
    "model.add(layers.MaxPooling2D((2,2)))\n",
    "model.add(layers.Conv2D(64, (3,3), activation='relu')) # (3,3) é o tamanho do filtro"
   ]
  },
  {
   "cell_type": "code",
   "execution_count": 4,
   "id": "c386928d-ba50-47a8-9945-59e44ca36c77",
   "metadata": {},
   "outputs": [
    {
     "name": "stdout",
     "output_type": "stream",
     "text": [
      "Model: \"sequential\"\n",
      "_________________________________________________________________\n",
      "Layer (type)                 Output Shape              Param #   \n",
      "=================================================================\n",
      "conv2d (Conv2D)              (None, 30, 30, 32)        896       \n",
      "_________________________________________________________________\n",
      "max_pooling2d (MaxPooling2D) (None, 15, 15, 32)        0         \n",
      "_________________________________________________________________\n",
      "conv2d_1 (Conv2D)            (None, 13, 13, 64)        18496     \n",
      "_________________________________________________________________\n",
      "max_pooling2d_1 (MaxPooling2 (None, 6, 6, 64)          0         \n",
      "_________________________________________________________________\n",
      "conv2d_2 (Conv2D)            (None, 4, 4, 64)          36928     \n",
      "=================================================================\n",
      "Total params: 56,320\n",
      "Trainable params: 56,320\n",
      "Non-trainable params: 0\n",
      "_________________________________________________________________\n"
     ]
    }
   ],
   "source": [
    "model.summary()\n",
    "#conv2d (Conv2D)              (None, 30, 30, 32)        896 \n",
    "#                                    30, 30 pois não fizemos o padding então perdemos 2x2 pixel\n",
    "# C/ Isso temos o stack of max pooling and convolution"
   ]
  },
  {
   "cell_type": "markdown",
   "id": "c290c787-4579-48bc-be83-3f302125250c",
   "metadata": {},
   "source": [
    "<p>Agora, Precisamos passar a informação contida na ultima camada para algum tipo de Dense Layer Classifier</p>\n",
    "\n",
    "<p>Para ao final, termos qual combinação dessas informações do mapa são uma das 10 classes</p>"
   ]
  },
  {
   "cell_type": "markdown",
   "id": "497c5b54-85ad-4baf-b607-38a1fb236b6b",
   "metadata": {},
   "source": [
    "<h1>Adicionando o Dense Layer</h1>"
   ]
  },
  {
   "cell_type": "code",
   "execution_count": 5,
   "id": "e1545406-87f1-47d2-bf3e-9c53c6c93b45",
   "metadata": {},
   "outputs": [],
   "source": [
    "model.add(layers.Flatten())\n",
    "model.add(layers.Dense(64,activation='relu'))\n",
    "model.add(layers.Dense(10)) # 10 Outputs"
   ]
  },
  {
   "cell_type": "code",
   "execution_count": 6,
   "id": "81db23f3-7fc8-4d32-8b82-1115a7774c1b",
   "metadata": {},
   "outputs": [
    {
     "name": "stdout",
     "output_type": "stream",
     "text": [
      "Model: \"sequential\"\n",
      "_________________________________________________________________\n",
      "Layer (type)                 Output Shape              Param #   \n",
      "=================================================================\n",
      "conv2d (Conv2D)              (None, 30, 30, 32)        896       \n",
      "_________________________________________________________________\n",
      "max_pooling2d (MaxPooling2D) (None, 15, 15, 32)        0         \n",
      "_________________________________________________________________\n",
      "conv2d_1 (Conv2D)            (None, 13, 13, 64)        18496     \n",
      "_________________________________________________________________\n",
      "max_pooling2d_1 (MaxPooling2 (None, 6, 6, 64)          0         \n",
      "_________________________________________________________________\n",
      "conv2d_2 (Conv2D)            (None, 4, 4, 64)          36928     \n",
      "_________________________________________________________________\n",
      "flatten (Flatten)            (None, 1024)              0         \n",
      "_________________________________________________________________\n",
      "dense (Dense)                (None, 64)                65600     \n",
      "_________________________________________________________________\n",
      "dense_1 (Dense)              (None, 10)                650       \n",
      "=================================================================\n",
      "Total params: 122,570\n",
      "Trainable params: 122,570\n",
      "Non-trainable params: 0\n",
      "_________________________________________________________________\n"
     ]
    }
   ],
   "source": [
    "model.summary()"
   ]
  },
  {
   "cell_type": "markdown",
   "id": "1dacc8a5-e014-43db-92c7-ddc003d48080",
   "metadata": {},
   "source": [
    "<h2>Treinando</h2>"
   ]
  },
  {
   "cell_type": "code",
   "execution_count": 7,
   "id": "5fbee217-1ac8-489c-acec-35c4a585508e",
   "metadata": {},
   "outputs": [
    {
     "name": "stdout",
     "output_type": "stream",
     "text": [
      "Epoch 1/4\n",
      "1563/1563 [==============================] - 40s 26ms/step - loss: 1.7372 - accuracy: 0.4034 - val_loss: 1.3746 - val_accuracy: 0.5021\n",
      "Epoch 2/4\n",
      "1563/1563 [==============================] - 39s 25ms/step - loss: 1.3203 - accuracy: 0.5293 - val_loss: 1.2417 - val_accuracy: 0.5569\n",
      "Epoch 3/4\n",
      "1563/1563 [==============================] - 38s 25ms/step - loss: 1.1741 - accuracy: 0.5872 - val_loss: 1.1336 - val_accuracy: 0.6088\n",
      "Epoch 4/4\n",
      "1563/1563 [==============================] - 40s 26ms/step - loss: 1.0681 - accuracy: 0.6258 - val_loss: 1.0680 - val_accuracy: 0.6296\n"
     ]
    }
   ],
   "source": [
    "model.compile(\n",
    "    optimizer = 'adam',\n",
    "    loss = tf.keras.losses.SparseCategoricalCrossentropy(from_logits=True),\n",
    "    metrics = ['accuracy']\n",
    ")\n",
    "\n",
    "history = model.fit(train_images, train_labels, epochs=4,\n",
    "                validation_data=(test_images,test_labels))"
   ]
  },
  {
   "cell_type": "markdown",
   "id": "0c59c637-3f83-4f01-adfb-5f5a4de8d05d",
   "metadata": {},
   "source": [
    "<h2>Avaliando</h2>"
   ]
  },
  {
   "cell_type": "code",
   "execution_count": 8,
   "id": "934090f7-264a-44ea-a83c-cbb3399c36f5",
   "metadata": {
    "scrolled": true
   },
   "outputs": [
    {
     "name": "stdout",
     "output_type": "stream",
     "text": [
      "313/313 [==============================] - 2s 5ms/step - loss: 1.0680 - accuracy: 0.6296\n",
      "0.6295999884605408\n"
     ]
    }
   ],
   "source": [
    "test_loss, test_acc = model.evaluate(test_images, test_labels,verbose=1)\n",
    "print(test_acc)"
   ]
  },
  {
   "cell_type": "markdown",
   "id": "d50ab64e-d34c-45e3-9ef5-8f13dd15ecaf",
   "metadata": {},
   "source": [
    "<h1>Trabalhando com Pequenos Datasets</h1>"
   ]
  },
  {
   "cell_type": "markdown",
   "id": "cc2d11fb-58fc-4a89-b91b-487f9b75a796",
   "metadata": {},
   "source": [
    "<p> Nesta seção faremos uso de algumas tecnicas que mesmo com poucos dados, podemos treinar bem nosso modelo</p>"
   ]
  },
  {
   "cell_type": "markdown",
   "id": "8764b0fa-a07d-437f-88bc-441fcc8b4ecd",
   "metadata": {},
   "source": [
    "<h2>Data Augmention / Aumento de Dados</h2>\n",
    "<p>Essa tecnica manipula as imagens, girando elas, comprimindo e até mudanças na cor</p>\n",
    "<p>Com isso, aumentamos o nosso número de dados sem precisar coletar novos. Tudo isso c/ o objetivo de evitar overfitting</p>"
   ]
  },
  {
   "cell_type": "code",
   "execution_count": 9,
   "id": "868f8882-30fe-4510-9d83-af0f4d6ea013",
   "metadata": {},
   "outputs": [
    {
     "data": {
      "image/png": "[encoded data removed]",
      "text/plain": [
       "<Figure size 200x200 with 1 Axes>"
      ]
     },
     "metadata": {},
     "output_type": "display_data"
    },
    {
     "data": {
      "image/png": "[encoded data removed]",
      "text/plain": [
       "<Figure size 200x200 with 1 Axes>"
      ]
     },
     "metadata": {},
     "output_type": "display_data"
    },
    {
     "data": {
      "image/png": "[encoded data removed]",
      "text/plain": [
       "<Figure size 200x200 with 1 Axes>"
      ]
     },
     "metadata": {},
     "output_type": "display_data"
    },
    {
     "data": {
      "image/png": "[encoded data removed]",
      "text/plain": [
       "<Figure size 200x200 with 1 Axes>"
      ]
     },
     "metadata": {},
     "output_type": "display_data"
    },
    {
     "data": {
      "image/png": "[encoded data removed]",
      "text/plain": [
       "<Figure size 200x200 with 1 Axes>"
      ]
     },
     "metadata": {},
     "output_type": "display_data"
    }
   ],
   "source": [
    "from tensorflow.keras.preprocessing import image\n",
    "from tensorflow.keras.preprocessing.image import ImageDataGenerator\n",
    "\n",
    "# Cria um objeto gerador de dados que transforma as imagens\n",
    "\n",
    "datagen = ImageDataGenerator(\n",
    "    rotation_range=40,\n",
    "    width_shift_range=0.2,\n",
    "    height_shift_range=0.2,\n",
    "    shear_range=0.2,\n",
    "    zoom_range=0.2,\n",
    "    horizontal_flip=True,\n",
    "    fill_mode='nearest')\n",
    "\n",
    "# Transforma uma imagem\n",
    "test_img = train_images[20]\n",
    "img = image.img_to_array(test_img) # converte a imagem pra um array numpy \n",
    "img = img.reshape((1,) + img.shape)\n",
    "\n",
    "i = 0\n",
    "# Esse Loop até o break salva as imagens no diretório atual\n",
    "for batch in datagen.flow(img, save_prefix='test',save_format='jpeg'):\n",
    "    plt.figure(i,figsize=(2,2))\n",
    "    plot = plt.imshow(image.img_to_array(batch[0])/255.0) # normalizando os pxels 255\n",
    "    i+=1\n",
    "    if i > 4: # mostra 4 imagens\n",
    "        break\n",
    "plt.show()\n"
   ]
  },
  {
   "cell_type": "markdown",
   "id": "370fc372-6c0e-43ee-9b70-0fb28c5ddf9f",
   "metadata": {},
   "source": [
    "<p>Agora o modelo tem 5 imagens a partir de 1 para treino</p>\n"
   ]
  },
  {
   "cell_type": "markdown",
   "id": "e77dd96a-bbf8-495f-b708-1dbf7b82145c",
   "metadata": {},
   "source": [
    "<h2>Modelos Pré-Treinados</h2>"
   ]
  },
  {
   "cell_type": "markdown",
   "id": "4d6913d4-8d99-4ba0-ae4e-df8609a174a1",
   "metadata": {},
   "source": [
    "<p>A CNN sozinha (sem a Dense Layer) não faz outra coisa se não mapear a presença de elementos com base no input</p>\n",
    "<p>Isso significa que podemos usar uma CNN Pré-Treinada com milhões de imagens para começarmos nosso modelo</p>\n",
    "<p>E se determinarmos a presença de elementos todo o resto do nosso modelo só precisa determinar qual combinação desses elementos fazem uma imagem</p>"
   ]
  },
  {
   "cell_type": "markdown",
   "id": "1978cb80-f2cc-40a4-9ed0-f9bb556a15fa",
   "metadata": {},
   "source": [
    "<h3>Ajuste Fino</h3>\n",
    "<p>O modelo pré-treinado é então ajustado em um conjunto de dados menor e mais específico relacionado à tarefa que se deseja resolver. Durante esse processo, os pesos do modelo são atualizados com base nos novos dados específicos da tarefa, geralmente usando uma taxa de aprendizado menor do que durante o pré-treinamento</p>\n",
    "<p>Geral -> Especifico</p>"
   ]
  },
  {
   "cell_type": "markdown",
   "id": "6a3f6398-3ff2-4d4b-8ffd-4fdeee6f85e9",
   "metadata": {},
   "source": [
    "<h3>Pegando um modelo pré-treinado</h3>"
   ]
  },
  {
   "cell_type": "markdown",
   "id": "98214673-43fa-47b5-8c80-84ac7142e57c",
   "metadata": {},
   "source": [
    "<p>IncludeTop -> importante argumento quando usamos um modelo pré treinado, se True -> trás as classificações junto, False não</p>"
   ]
  },
  {
   "cell_type": "markdown",
   "id": "608090ad-0c42-41f5-bd49-da5d5d88949f",
   "metadata": {},
   "source": [
    "<p>Adiciona o Classificador</p>\n",
    "<p>Usa tf.keras.layers.GlobalAvaragePooling2D()</p>\n",
    "<p>Essa função passa um pooling de 5x5 que pega a media e retorna um vetor de 1280 elementos por filtro</p>\n",
    "<p>Depois a camada de predição só precisa de 1 neuronio pra diferenciar cats/dogs</p>\n",
    "<p>Passa como argumento pro modelo sequencial o modelo base, o globalavaragepooling e a camada de predicao</p>\n"
   ]
  },
  {
   "cell_type": "code",
   "execution_count": null,
   "id": "5cf3d473-2b06-457c-a97f-d8e4ce885485",
   "metadata": {},
   "outputs": [],
   "source": []
  }
 ],
 "metadata": {
  "kernelspec": {
   "display_name": "Python 3 (ipykernel)",
   "language": "python",
   "name": "python3"
  },
  "language_info": {
   "codemirror_mode": {
    "name": "ipython",
    "version": 3
   },
   "file_extension": ".py",
   "mimetype": "text/x-python",
   "name": "python",
   "nbconvert_exporter": "python",
   "pygments_lexer": "ipython3",
   "version": "3.12.4"
  }
 },
 "nbformat": 4,
 "nbformat_minor": 5
}
